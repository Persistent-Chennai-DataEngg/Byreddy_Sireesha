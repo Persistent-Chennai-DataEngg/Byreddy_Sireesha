{
 "cells": [
  {
   "cell_type": "code",
   "execution_count": 17,
   "id": "bccb07ab-354d-4592-ab6c-8d5a82f9414e",
   "metadata": {},
   "outputs": [
    {
     "name": "stdout",
     "output_type": "stream",
     "text": [
      "+----------+----+------+----------------+\n",
      "|     house|year|points|         student|\n",
      "+----------+----+------+----------------+\n",
      "|Gryffindor|   1|    80|    Harry Potter|\n",
      "| Slytherin|   1|    60|    Draco Malfoy|\n",
      "| Ravenclaw|   1|    45|   Luna Lovegood|\n",
      "|Hufflepuff|   1|    30|  Cedric Diggory|\n",
      "|Gryffindor|   2|    90|Hermione Granger|\n",
      "| Slytherin|   2|    70| Pansy Parkinson|\n",
      "| Ravenclaw|   2|    55|       Cho Chang|\n",
      "|Hufflepuff|   2|    65|   Hannah Abbott|\n",
      "|Gryffindor|   3|    20|     Ron Weasley|\n",
      "| Slytherin|   3|    85|   Blaise Zabini|\n",
      "+----------+----+------+----------------+\n",
      "\n"
     ]
    }
   ],
   "source": [
    "\"\"\" Hogwarts House Points Analysis \n",
    "Problem Description:\n",
    "At Hogwarts School of Witchcraft and Wizardry, the four houses (Gryffindor, Hufflepuff, Ravenclaw, Slytherin) \n",
    "earn points for their achievements throughout the year. You’ve been tasked by Professor Dumbledore to analyze the\n",
    "house points data to determine which house is leading and summarize points by house and year. Select the relevant \n",
    "columns (house, year, points), filter for houses with more than 50 points in a given year, group by house and year to sum the points, and order the results by year and total points in descending order to see who’s dominating the House Cup race. The Great Hall is buzzing with anticipation for these results.\n",
    "\"\"\"\n",
    "from pyspark.sql import SparkSession\n",
    "\n",
    "spark = SparkSession.builder.appName(\"HogwartsAnalysis\").getOrCreate()\n",
    "\n",
    "data = [\n",
    "    (\"Gryffindor\", 1, 80, \"Harry Potter\"),\n",
    "    (\"Slytherin\", 1, 60, \"Draco Malfoy\"),\n",
    "    (\"Ravenclaw\", 1, 45, \"Luna Lovegood\"),\n",
    "    (\"Hufflepuff\", 1, 30, \"Cedric Diggory\"),\n",
    "    (\"Gryffindor\", 2, 90, \"Hermione Granger\"),\n",
    "    (\"Slytherin\", 2, 70, \"Pansy Parkinson\"),\n",
    "    (\"Ravenclaw\", 2, 55, \"Cho Chang\"),\n",
    "    (\"Hufflepuff\", 2, 65, \"Hannah Abbott\"),\n",
    "    (\"Gryffindor\", 3, 20, \"Ron Weasley\"),\n",
    "    (\"Slytherin\", 3, 85, \"Blaise Zabini\")\n",
    "]\n",
    "\n",
    "columns = [\"house\", \"year\", \"points\", \"student\"]\n",
    "df = spark.createDataFrame(data, columns)\n",
    "df.show() \n"
   ]
  },
  {
   "cell_type": "code",
   "execution_count": 19,
   "id": "60313e30-2065-4eb1-843f-92fe1e929a63",
   "metadata": {},
   "outputs": [
    {
     "name": "stdout",
     "output_type": "stream",
     "text": [
      "+----------+----+------------+\n",
      "|     house|year|total_points|\n",
      "+----------+----+------------+\n",
      "|Gryffindor|   1|          80|\n",
      "| Slytherin|   1|          60|\n",
      "|Gryffindor|   2|          90|\n",
      "| Slytherin|   2|          70|\n",
      "|Hufflepuff|   2|          65|\n",
      "| Ravenclaw|   2|          55|\n",
      "| Slytherin|   3|          85|\n",
      "+----------+----+------------+\n",
      "\n"
     ]
    }
   ],
   "source": [
    "\n",
    "from pyspark.sql.functions import sum, count\n",
    "res=df.select(\"house\",\"year\",\"points\").filter(df.points>50).groupBy([\"house\",\"year\"]).agg(sum(\"points\").alias(\"total_points\")).orderBy([\"year\",\"total_points\"],ascending=[True, False])\n",
    "res.show()"
   ]
  },
  {
   "cell_type": "code",
   "execution_count": null,
   "id": "d05869fb-1dd3-4c83-a105-bffa089e7c64",
   "metadata": {},
   "outputs": [],
   "source": []
  },
  {
   "cell_type": "code",
   "execution_count": 9,
   "id": "9d9fe4a9-9cd6-4da4-af26-dcd532738a52",
   "metadata": {},
   "outputs": [
    {
     "name": "stdout",
     "output_type": "stream",
     "text": [
      "+-------+------+----------------+--------+----------+\n",
      "|   name|  race|enemies_defeated|injuries|    battle|\n",
      "+-------+------+----------------+--------+----------+\n",
      "|Aragorn| Human|              10|       2|Helms Deep|\n",
      "|Legolas|   Elf|              15|       0|Helms Deep|\n",
      "|  Gimli| Dwarf|               8|       3|Helms Deep|\n",
      "|  Frodo|Hobbit|               2|       1|     Moria|\n",
      "|    Sam|Hobbit|               4|       2|     Moria|\n",
      "|Gandalf|Wizard|              12|       1|     Moria|\n",
      "|Boromir| Human|               7|       4|  Amon Hen|\n",
      "|Legolas|   Elf|              20|       0|  Amon Hen|\n",
      "|Aragorn| Human|               9|       2|  Amon Hen|\n",
      "+-------+------+----------------+--------+----------+\n",
      "\n"
     ]
    }
   ],
   "source": [
    "\"\"\"Problem 2: Fellowship of the Ring Battle Stats \n",
    "Problem Description:\n",
    "The Fellowship of the Ring is battling across Middle-earth, and Gandalf needs your \n",
    "help to analyze their combat performance. The data tracks each member’s battles, enemies defeated,\n",
    "and injuries sustained. To prepare for the next council in Rivendell, select the member’s name, race, and enemies defeated, \n",
    "filter for battles where more than 5 enemies were defeated, group by race to calculate the average enemies defeated, \n",
    "and order by the average in descending order.\n",
    "This will help the council decide which races are most effective in combat and plan their strategy against Sauron’s forces.\n",
    "\"\"\"\n",
    "data = [\n",
    "    (\"Aragorn\", \"Human\", 10, 2, \"Helms Deep\"),\n",
    "    (\"Legolas\", \"Elf\", 15, 0, \"Helms Deep\"),\n",
    "    (\"Gimli\", \"Dwarf\", 8, 3, \"Helms Deep\"),\n",
    "    (\"Frodo\", \"Hobbit\", 2, 1, \"Moria\"),\n",
    "    (\"Sam\", \"Hobbit\", 4, 2, \"Moria\"),\n",
    "    (\"Gandalf\", \"Wizard\", 12, 1, \"Moria\"),\n",
    "    (\"Boromir\", \"Human\", 7, 4, \"Amon Hen\"),\n",
    "    (\"Legolas\", \"Elf\", 20, 0, \"Amon Hen\"),\n",
    "    (\"Aragorn\", \"Human\", 9, 2, \"Amon Hen\")\n",
    "]\n",
    "\n",
    "columns = [\"name\", \"race\", \"enemies_defeated\", \"injuries\", \"battle\"]\n",
    "df = spark.createDataFrame(data, columns)\n",
    "df.show()\n"
   ]
  },
  {
   "cell_type": "code",
   "execution_count": 13,
   "id": "7d9f7af6-2817-4baa-9296-dd3f5ea543ac",
   "metadata": {},
   "outputs": [
    {
     "name": "stdout",
     "output_type": "stream",
     "text": [
      "+------+------------------------+\n",
      "|  race|Average_enemies_defeated|\n",
      "+------+------------------------+\n",
      "|   Elf|                    17.5|\n",
      "|Wizard|                    12.0|\n",
      "| Human|       8.666666666666666|\n",
      "| Dwarf|                     8.0|\n",
      "+------+------------------------+\n",
      "\n"
     ]
    }
   ],
   "source": [
    "from pyspark.sql.functions import avg\n",
    "res=df.select(\"name\",\"race\",\"enemies_defeated\",\"injuries\").filter(df.enemies_defeated>5).groupBy(\"race\").agg(avg(\"enemies_defeated\").alias(\"Average_enemies_defeated\")).orderBy(\"Average_enemies_defeated\",ascending=False)\n",
    "res.show()"
   ]
  },
  {
   "cell_type": "code",
   "execution_count": null,
   "id": "6db92a90-4964-46eb-b687-bbf34a2ce488",
   "metadata": {},
   "outputs": [],
   "source": []
  }
 ],
 "metadata": {
  "kernelspec": {
   "display_name": "Python 3 (ipykernel)",
   "language": "python",
   "name": "python3"
  },
  "language_info": {
   "codemirror_mode": {
    "name": "ipython",
    "version": 3
   },
   "file_extension": ".py",
   "mimetype": "text/x-python",
   "name": "python",
   "nbconvert_exporter": "python",
   "pygments_lexer": "ipython3",
   "version": "3.10.11"
  }
 },
 "nbformat": 4,
 "nbformat_minor": 5
}
