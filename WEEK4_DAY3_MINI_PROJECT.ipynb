{
 "cells": [
  {
   "cell_type": "code",
   "execution_count": 23,
   "id": "fd969a6d-348c-463b-be2f-791568f22880",
   "metadata": {},
   "outputs": [
    {
     "name": "stdout",
     "output_type": "stream",
     "text": [
      "+-----+----------+-----------+----------+---------+---------+---------+---------+---------+---------+------------+---------+\n",
      "|Store|      Date|Temperature|Fuel_Price|MarkDown1|MarkDown2|MarkDown3|MarkDown4|MarkDown5|      CPI|Unemployment|IsHoliday|\n",
      "+-----+----------+-----------+----------+---------+---------+---------+---------+---------+---------+------------+---------+\n",
      "|    1|05/02/2010|      42.31|     2.572|     NULL|     NULL|     NULL|     NULL|     NULL|211.09636|       8.106|    false|\n",
      "|    1|12/02/2010|      38.51|     2.548|     NULL|     NULL|     NULL|     NULL|     NULL|211.24217|       8.106|     true|\n",
      "|    1|19/02/2010|      39.93|     2.514|     NULL|     NULL|     NULL|     NULL|     NULL|211.28914|       8.106|    false|\n",
      "|    1|26/02/2010|      46.63|     2.561|     NULL|     NULL|     NULL|     NULL|     NULL|211.31964|       8.106|    false|\n",
      "|    1|05/03/2010|       46.5|     2.625|     NULL|     NULL|     NULL|     NULL|     NULL|211.35014|       8.106|    false|\n",
      "|    1|12/03/2010|      57.79|     2.667|     NULL|     NULL|     NULL|     NULL|     NULL|211.38065|       8.106|    false|\n",
      "|    1|19/03/2010|      54.58|      2.72|     NULL|     NULL|     NULL|     NULL|     NULL|211.21564|       8.106|    false|\n",
      "|    1|26/03/2010|      51.45|     2.732|     NULL|     NULL|     NULL|     NULL|     NULL|211.01804|       8.106|    false|\n",
      "|    1|02/04/2010|      62.27|     2.719|     NULL|     NULL|     NULL|     NULL|     NULL|210.82045|       7.808|    false|\n",
      "|    1|09/04/2010|      65.86|      2.77|     NULL|     NULL|     NULL|     NULL|     NULL|210.62286|       7.808|    false|\n",
      "+-----+----------+-----------+----------+---------+---------+---------+---------+---------+---------+------------+---------+\n",
      "only showing top 10 rows\n"
     ]
    }
   ],
   "source": [
    "from pyspark.sql import SparkSession\n",
    "from pyspark.sql.types import StructType, StructField,TimestampType, IntegerType, DateType, DoubleType, FloatType, StringType, BooleanType\n",
    "spark = SparkSession.builder.appName(\"ETL\").getOrCreate()\n",
    "schema = StructType([\n",
    "    StructField(\"Store\", IntegerType(), True),\n",
    "    StructField(\"Date\", StringType(), True),\n",
    "    StructField(\"Temperature\", DoubleType(), True),\n",
    "    StructField(\"Fuel_Price\", DoubleType(), True),\n",
    "    StructField(\"MarkDown1\", FloatType(), True),\n",
    "    StructField(\"MarkDown2\", FloatType(), True),\n",
    "    StructField(\"MarkDown3\", FloatType(), True),\n",
    "    StructField(\"MarkDown4\", FloatType(), True),\n",
    "    StructField(\"MarkDown5\", FloatType(), True),\n",
    "    StructField(\"CPI\", FloatType(), True),\n",
    "    StructField(\"Unemployment\", StringType(), False),\n",
    "    StructField(\"IsHoliday\", BooleanType(), True),\n",
    "\n",
    "])\n",
    "\n",
    "df=spark.read.schema(schema).csv(\"C:/Users/sireesha/Downloads/Features data set.csv\",header=True)\n",
    "df.show(10)\n",
    "##df.count()\n",
    "\n",
    "    "
   ]
  },
  {
   "cell_type": "code",
   "execution_count": 24,
   "id": "6dceb390-e206-425d-9f05-167edd7d9822",
   "metadata": {},
   "outputs": [
    {
     "data": {
      "text/plain": [
       "['Store',\n",
       " 'Date',\n",
       " 'Temperature',\n",
       " 'Fuel_Price',\n",
       " 'MarkDown1',\n",
       " 'MarkDown2',\n",
       " 'MarkDown3',\n",
       " 'MarkDown4',\n",
       " 'MarkDown5',\n",
       " 'CPI',\n",
       " 'Unemployment',\n",
       " 'IsHoliday']"
      ]
     },
     "execution_count": 24,
     "metadata": {},
     "output_type": "execute_result"
    }
   ],
   "source": [
    "df.columns\n"
   ]
  },
  {
   "cell_type": "code",
   "execution_count": 25,
   "id": "2f9ef305-2577-47b5-a89b-0fbfb21e0d3d",
   "metadata": {},
   "outputs": [
    {
     "name": "stdout",
     "output_type": "stream",
     "text": [
      "+-----+----------+-----------+----------+---------+---------+---------+---------+---------+---------+------------+---------+\n",
      "|Store|      Date|Temperature|Fuel_Price|MarkDown1|MarkDown2|MarkDown3|MarkDown4|MarkDown5|      CPI|Unemployment|IsHoliday|\n",
      "+-----+----------+-----------+----------+---------+---------+---------+---------+---------+---------+------------+---------+\n",
      "|    1|05/02/2010|      42.31|     2.572|     NULL|     NULL|     NULL|     NULL|     NULL|211.09636|       8.106|    false|\n",
      "|    1|12/02/2010|      38.51|     2.548|     NULL|     NULL|     NULL|     NULL|     NULL|211.24217|       8.106|     true|\n",
      "|    1|19/02/2010|      39.93|     2.514|     NULL|     NULL|     NULL|     NULL|     NULL|211.28914|       8.106|    false|\n",
      "|    1|26/02/2010|      46.63|     2.561|     NULL|     NULL|     NULL|     NULL|     NULL|211.31964|       8.106|    false|\n",
      "|    1|05/03/2010|       46.5|     2.625|     NULL|     NULL|     NULL|     NULL|     NULL|211.35014|       8.106|    false|\n",
      "+-----+----------+-----------+----------+---------+---------+---------+---------+---------+---------+------------+---------+\n",
      "only showing top 5 rows\n"
     ]
    }
   ],
   "source": [
    "df.show(5)"
   ]
  },
  {
   "cell_type": "code",
   "execution_count": 26,
   "id": "5809b689-689e-4ff3-a2f2-04b6280a6b66",
   "metadata": {},
   "outputs": [
    {
     "name": "stdout",
     "output_type": "stream",
     "text": [
      "root\n",
      " |-- Store: integer (nullable = true)\n",
      " |-- Date: string (nullable = true)\n",
      " |-- Temperature: double (nullable = true)\n",
      " |-- Fuel_Price: double (nullable = true)\n",
      " |-- MarkDown1: float (nullable = true)\n",
      " |-- MarkDown2: float (nullable = true)\n",
      " |-- MarkDown3: float (nullable = true)\n",
      " |-- MarkDown4: float (nullable = true)\n",
      " |-- MarkDown5: float (nullable = true)\n",
      " |-- CPI: float (nullable = true)\n",
      " |-- Unemployment: string (nullable = true)\n",
      " |-- IsHoliday: boolean (nullable = true)\n",
      "\n"
     ]
    }
   ],
   "source": [
    "df.printSchema()"
   ]
  },
  {
   "cell_type": "code",
   "execution_count": 27,
   "id": "c01f6039-3b56-423a-8f0f-9f55482e0ce6",
   "metadata": {},
   "outputs": [
    {
     "data": {
      "text/plain": [
       "8190"
      ]
     },
     "execution_count": 27,
     "metadata": {},
     "output_type": "execute_result"
    }
   ],
   "source": [
    "df.count()"
   ]
  },
  {
   "cell_type": "code",
   "execution_count": 28,
   "id": "ebd52ad1-a641-454b-98c1-a5a58cbabf81",
   "metadata": {},
   "outputs": [
    {
     "name": "stdout",
     "output_type": "stream",
     "text": [
      "+-----+----+-----------+----------+---------+---------+---------+---------+---------+---+------------+---------+\n",
      "|Store|Date|Temperature|Fuel_Price|MarkDown1|MarkDown2|MarkDown3|MarkDown4|MarkDown5|CPI|Unemployment|IsHoliday|\n",
      "+-----+----+-----------+----------+---------+---------+---------+---------+---------+---+------------+---------+\n",
      "|    0|   0|          0|         0|     4158|     5269|     4577|     4726|     4140|585|         585|        0|\n",
      "+-----+----+-----------+----------+---------+---------+---------+---------+---------+---+------------+---------+\n",
      "\n"
     ]
    }
   ],
   "source": [
    "from pyspark.sql.functions import col,sum,to_date,when,lit\n",
    "df= df.replace('NA', None)\n",
    "df.select([col(c).isNull().alias(c) for c in df.columns]).agg(*[sum(col(c).cast(\"int\")).alias(c) for c in df.columns]).show()\n",
    "\n"
   ]
  },
  {
   "cell_type": "code",
   "execution_count": null,
   "id": "66149925-ee83-40ef-9945-0d6cb024e0cb",
   "metadata": {},
   "outputs": [],
   "source": []
  },
  {
   "cell_type": "code",
   "execution_count": 29,
   "id": "00cced4e-c8ff-4706-823d-dd1dc9f34c74",
   "metadata": {},
   "outputs": [
    {
     "data": {
      "text/plain": [
       "8190"
      ]
     },
     "execution_count": 29,
     "metadata": {},
     "output_type": "execute_result"
    }
   ],
   "source": [
    "df = df.dropDuplicates()\n",
    "df.count()"
   ]
  },
  {
   "cell_type": "code",
   "execution_count": 30,
   "id": "8bf9ce11-bd7d-4493-a9da-d71ac84a7a22",
   "metadata": {},
   "outputs": [
    {
     "name": "stdout",
     "output_type": "stream",
     "text": [
      "+-----+----+-----------+----------+---------+---------+---------+---------+---------+---+------------+---------+\n",
      "|Store|Date|Temperature|Fuel_Price|MarkDown1|MarkDown2|MarkDown3|MarkDown4|MarkDown5|CPI|Unemployment|IsHoliday|\n",
      "+-----+----+-----------+----------+---------+---------+---------+---------+---------+---+------------+---------+\n",
      "|    0|   0|          0|         0|        0|        0|        0|        0|        0|  0|           0|        0|\n",
      "+-----+----+-----------+----------+---------+---------+---------+---------+---------+---+------------+---------+\n",
      "\n"
     ]
    }
   ],
   "source": [
    "df = df.fillna({'MarkDown1': 0, 'MarkDown2': 0, 'MarkDown3': 0, 'MarkDown4': 0, 'MarkDown5': 0})\n",
    "mean_cpi = df.agg({'CPI': 'mean'}).collect()[0][0]\n",
    "mean_unemployment = df.agg({'Unemployment': 'mean'}).collect()[0][0]\n",
    "df = df.fillna({'CPI': mean_cpi, 'Unemployment': mean_unemployment})\n",
    "\n",
    "df.select([col(c).isNull().alias(c) for c in df.columns]).agg(*[sum(col(c).cast(\"int\")).alias(c) for c in df.columns]).show()\n",
    "\n"
   ]
  },
  {
   "cell_type": "code",
   "execution_count": 32,
   "id": "a2dcce07-309b-493a-a3ae-cf76445a99d5",
   "metadata": {},
   "outputs": [
    {
     "name": "stdout",
     "output_type": "stream",
     "text": [
      "+-----+----------+-----------+----------+---------+---------+---------+---------+---------+---------+------------+---------+\n",
      "|Store|      Date|Temperature|Fuel_Price|MarkDown1|MarkDown2|MarkDown3|MarkDown4|MarkDown5|      CPI|Unemployment|IsHoliday|\n",
      "+-----+----------+-----------+----------+---------+---------+---------+---------+---------+---------+------------+---------+\n",
      "|    1|11/01/2013|      50.32|     3.243|  6520.24|  16134.6|    12.17|   774.55|  4001.25|224.20155|       6.525|    false|\n",
      "|    4|17/08/2012|      81.41|     3.552|  2531.63|    15.04|     5.54|  1269.13|   3528.9|130.79097|       4.077|    false|\n",
      "|    5|27/07/2012|      85.06|     3.407|  2696.67|     7.75|     0.36|  3104.68|  2152.23|222.52972|       5.603|    false|\n",
      "|    5|03/08/2012|      86.91|     3.417|  7365.26|    14.48|      0.7|   3640.7|  2517.31|222.53851|       5.603|    false|\n",
      "|    6|07/09/2012|      86.33|      3.73| 14105.12|    47.96|     24.6|  3040.62|  3558.18|224.05602|       5.668|     true|\n",
      "|   10|02/03/2012|      57.62|     3.882| 22685.06|   152.91|    48.76|  5831.75|  2808.95| 130.6458|       7.545|    false|\n",
      "|   11|18/11/2011|      66.17|     3.308| 10941.05|   222.94|    263.1|   404.05|   8885.3|221.64328|       7.197|    false|\n",
      "|   11|03/08/2012|      86.94|     3.417| 21974.47|   173.58|     25.5| 22778.65|  6172.69|225.46364|       6.334|    false|\n",
      "|   12|18/11/2011|       54.2|     3.813|  5957.36|   343.22|    84.93|  2390.67| 12934.62|129.82683|       12.89|    false|\n",
      "|   16|08/02/2013|      25.41|     3.214| 29842.81|   247.22|    61.72| 16268.99|  2222.53|200.96877|       5.415|     true|\n",
      "+-----+----------+-----------+----------+---------+---------+---------+---------+---------+---------+------------+---------+\n",
      "only showing top 10 rows\n"
     ]
    }
   ],
   "source": [
    "df.show(10)"
   ]
  },
  {
   "cell_type": "code",
   "execution_count": 12,
   "id": "50b7afaf-4372-42d1-b6fe-4be1e20f7c0b",
   "metadata": {},
   "outputs": [
    {
     "name": "stdout",
     "output_type": "stream",
     "text": [
      "root\n",
      " |-- Store: integer (nullable = true)\n",
      " |-- Date: string (nullable = true)\n",
      " |-- Temperature: double (nullable = true)\n",
      " |-- Fuel_Price: double (nullable = true)\n",
      " |-- MarkDown1: float (nullable = false)\n",
      " |-- MarkDown2: float (nullable = false)\n",
      " |-- MarkDown3: float (nullable = false)\n",
      " |-- MarkDown4: float (nullable = false)\n",
      " |-- MarkDown5: float (nullable = false)\n",
      " |-- CPI: float (nullable = false)\n",
      " |-- Unemployment: float (nullable = true)\n",
      " |-- IsHoliday: boolean (nullable = true)\n",
      "\n"
     ]
    }
   ],
   "source": [
    "df = df.withColumn(\"Unemployment\", col(\"Unemployment\").cast(\"float\")) \n",
    "       \n",
    "df.printSchema()\n"
   ]
  },
  {
   "cell_type": "code",
   "execution_count": 13,
   "id": "d43c4d13-ade8-468a-8f4b-31fcb231187b",
   "metadata": {},
   "outputs": [
    {
     "name": "stdout",
     "output_type": "stream",
     "text": [
      "+----+\n",
      "|Date|\n",
      "+----+\n",
      "+----+\n",
      "\n"
     ]
    }
   ],
   "source": [
    "df.filter(col(\"Date\").isNull()).select(\"Date\").show()\n"
   ]
  },
  {
   "cell_type": "code",
   "execution_count": 18,
   "id": "144ac020-ba36-41e0-ad72-cc729234c42d",
   "metadata": {},
   "outputs": [],
   "source": [
    "df.write.option(\"header\", \"true\").mode(\"overwrite\").csv(\"C:/Users/sireesha/Downloads/Features_data_cleaned\")\n"
   ]
  },
  {
   "cell_type": "code",
   "execution_count": 22,
   "id": "1d70ff9d-2ad3-467e-97b4-2cd0d0030ad3",
   "metadata": {},
   "outputs": [
    {
     "name": "stdout",
     "output_type": "stream",
     "text": [
      "Loaded 8190 rows into glassy-land-429507-s9.onlineretail.table_new.\n"
     ]
    }
   ],
   "source": [
    "\n",
    "import os\n",
    "from google.cloud import bigquery\n",
    "os.environ[\"GOOGLE_APPLICATION_CREDENTIALS\"]=\"C:/Users/sireesha/Downloads/glassy-land-429507-s9-58daca9d3510.json\"\n",
    "client = bigquery.Client()\n",
    "project_id = \"glassy-land-429507-s9\"\n",
    "dataset_id = \"onlineretail\"\n",
    "table_id = \"table_new\"\n",
    "csv_file_path = \"C:/Users/sireesha/Downloads/Features_data_cleaned/part-00000-d239da2d-4677-4bd9-948b-a09bb05bcccc-c000.csv\"\n",
    "\n",
    "table_ref = f\"{project_id}.{dataset_id}.{table_id}\"\n",
    "\n",
    "job_config = bigquery.LoadJobConfig(\n",
    "    source_format=bigquery.SourceFormat.CSV,\n",
    "    skip_leading_rows=1,      \n",
    "    autodetect=True,           \n",
    "    write_disposition=\"WRITE_TRUNCATE\")\n",
    "\n",
    "with open(csv_file_path, \"rb\") as source_file:\n",
    "    load_job = client.load_table_from_file(\n",
    "        source_file,\n",
    "        destination=table_ref,\n",
    "        job_config=job_config,\n",
    "    )\n",
    "\n",
    "load_job.result()\n",
    "\n",
    "destination_table = client.get_table(table_ref)\n",
    "print(f\"Loaded {destination_table.num_rows} rows into {table_ref}.\") \n",
    "\n",
    "\n"
   ]
  },
  {
   "cell_type": "code",
   "execution_count": null,
   "id": "dae51f76-2268-4906-b14e-de7e75c2ac6c",
   "metadata": {
    "scrolled": true
   },
   "outputs": [],
   "source": []
  },
  {
   "cell_type": "code",
   "execution_count": null,
   "id": "a93fd710-b737-4a05-8154-72b9d63a28d2",
   "metadata": {},
   "outputs": [],
   "source": []
  },
  {
   "cell_type": "code",
   "execution_count": null,
   "id": "38b15766-0993-47cc-a03c-0ab138529816",
   "metadata": {},
   "outputs": [],
   "source": []
  }
 ],
 "metadata": {
  "kernelspec": {
   "display_name": "Python 3 (ipykernel)",
   "language": "python",
   "name": "python3"
  },
  "language_info": {
   "codemirror_mode": {
    "name": "ipython",
    "version": 3
   },
   "file_extension": ".py",
   "mimetype": "text/x-python",
   "name": "python",
   "nbconvert_exporter": "python",
   "pygments_lexer": "ipython3",
   "version": "3.10.11"
  }
 },
 "nbformat": 4,
 "nbformat_minor": 5
}
